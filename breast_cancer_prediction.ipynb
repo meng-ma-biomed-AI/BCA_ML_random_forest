{
 "cells": [
  {
   "cell_type": "markdown",
   "metadata": {},
   "source": [
    "# The Breast Cancer Dataset:\n",
    "This is a Breast Cancer Data Set with 286 instances of real patient data obtained from the Institute of Oncology, Ljubljana. The data set is publicly available from UCI Machine Learning repository and has the following variables:\n",
    "\n",
    "Age: age of the patient at the time of diagnosis;\n",
    "\n",
    "Menopause: whether the patient is pre- or postmenopausal at time of diagnosis;\n",
    "\n",
    "Tumor size: the greatest diameter (in mm) of the excised tumor;\n",
    "\n",
    "Inv-nodes: the number (range 0 - 39) of axillary lymph nodes that contain metastatic breast cancer visible on histological examination;\n",
    "\n",
    "Node caps: if the cancer does metastasise to a lymph node, although outside the original site of the tumor it may remain “contained” by the capsule of the lymph node. However, over time, and with more aggressive disease, the tumor may replace the lymph node and then penetrate the capsule, allowing it to invade the surrounding tissues;\n",
    "\n",
    "Degree of malignancy: the histological grade (range 1-3) of the tumor. Tumors that are grade 1 predominantly consist of cells that, while neoplastic, retain many of their usual characteristics. Grade 3 tumors predominately consist of cells that are highly abnormal;\n",
    "\n",
    "Breast: breast cancer may obviously occur in either breast;\n",
    "\n",
    "Breast quadrant: the breast may be divided into four quadrants, using the nipple as a central point;\n",
    "\n",
    "Irradiation: radiation therapy is a treatment that uses high-energy x-rays to destroy cancer cells. \n"
   ]
  },
  {
   "cell_type": "markdown",
   "metadata": {},
   "source": [
    "# Import Libraries"
   ]
  },
  {
   "cell_type": "code",
   "execution_count": 1,
   "metadata": {},
   "outputs": [],
   "source": [
    "import warnings\n",
    "warnings.simplefilter(action = 'ignore', category=FutureWarning)\n",
    "warnings.filterwarnings('ignore')\n",
    "def ignore_warn(*args, **kwargs):\n",
    "    pass\n",
    "import pandas as pd\n",
    "from matplotlib import pyplot as plt\n",
    "from sklearn.preprocessing import LabelEncoder\n",
    "import seaborn as sns\n",
    "from imblearn.over_sampling import SMOTE\n",
    "from sklearn.model_selection import train_test_split\n",
    "from sklearn.preprocessing import StandardScaler\n",
    "from sklearn.linear_model import LogisticRegression\n",
    "import numpy as np\n",
    "from sklearn.neighbors import KNeighborsClassifier\n",
    "from sklearn.tree import DecisionTreeClassifier\n",
    "from sklearn.naive_bayes import GaussianNB\n",
    "from sklearn.ensemble import RandomForestClassifier\n",
    "from sklearn.svm import SVC\n",
    "from sklearn.neural_network import MLPClassifier\n",
    "from sklearn.model_selection import KFold, cross_val_score, GridSearchCV\n",
    "from sklearn.metrics import classification_report\n",
    "from sklearn.metrics import confusion_matrix\n",
    "from sklearn.metrics import accuracy_score\n",
    "from sklearn.metrics import roc_auc_score, roc_curve\n",
    "from sklearn.preprocessing import MinMaxScaler\n",
    "import pickle"
   ]
  },
  {
   "cell_type": "markdown",
   "metadata": {},
   "source": [
    "# Load and Explore Data"
   ]
  },
  {
   "cell_type": "code",
   "execution_count": 2,
   "metadata": {},
   "outputs": [
    {
     "data": {
      "text/html": [
       "<div>\n",
       "<style scoped>\n",
       "    .dataframe tbody tr th:only-of-type {\n",
       "        vertical-align: middle;\n",
       "    }\n",
       "\n",
       "    .dataframe tbody tr th {\n",
       "        vertical-align: top;\n",
       "    }\n",
       "\n",
       "    .dataframe thead th {\n",
       "        text-align: right;\n",
       "    }\n",
       "</style>\n",
       "<table border=\"1\" class=\"dataframe\">\n",
       "  <thead>\n",
       "    <tr style=\"text-align: right;\">\n",
       "      <th></th>\n",
       "      <th>Class</th>\n",
       "      <th>age</th>\n",
       "      <th>menopause</th>\n",
       "      <th>tumor-size</th>\n",
       "      <th>inv-nodes</th>\n",
       "      <th>node-caps</th>\n",
       "      <th>deg-malig</th>\n",
       "      <th>breast</th>\n",
       "      <th>breast-quad</th>\n",
       "      <th>irradiat</th>\n",
       "    </tr>\n",
       "  </thead>\n",
       "  <tbody>\n",
       "    <tr>\n",
       "      <th>0</th>\n",
       "      <td>no-recurrence-events</td>\n",
       "      <td>30-39</td>\n",
       "      <td>premeno</td>\n",
       "      <td>30-34</td>\n",
       "      <td>0-2</td>\n",
       "      <td>no</td>\n",
       "      <td>3</td>\n",
       "      <td>left</td>\n",
       "      <td>left_low</td>\n",
       "      <td>no</td>\n",
       "    </tr>\n",
       "    <tr>\n",
       "      <th>1</th>\n",
       "      <td>no-recurrence-events</td>\n",
       "      <td>40-49</td>\n",
       "      <td>premeno</td>\n",
       "      <td>20-24</td>\n",
       "      <td>0-2</td>\n",
       "      <td>no</td>\n",
       "      <td>2</td>\n",
       "      <td>right</td>\n",
       "      <td>right_up</td>\n",
       "      <td>no</td>\n",
       "    </tr>\n",
       "    <tr>\n",
       "      <th>2</th>\n",
       "      <td>no-recurrence-events</td>\n",
       "      <td>40-49</td>\n",
       "      <td>premeno</td>\n",
       "      <td>20-24</td>\n",
       "      <td>0-2</td>\n",
       "      <td>no</td>\n",
       "      <td>2</td>\n",
       "      <td>left</td>\n",
       "      <td>left_low</td>\n",
       "      <td>no</td>\n",
       "    </tr>\n",
       "    <tr>\n",
       "      <th>3</th>\n",
       "      <td>no-recurrence-events</td>\n",
       "      <td>60-69</td>\n",
       "      <td>ge40</td>\n",
       "      <td>15-19</td>\n",
       "      <td>0-2</td>\n",
       "      <td>no</td>\n",
       "      <td>2</td>\n",
       "      <td>right</td>\n",
       "      <td>left_up</td>\n",
       "      <td>no</td>\n",
       "    </tr>\n",
       "    <tr>\n",
       "      <th>4</th>\n",
       "      <td>no-recurrence-events</td>\n",
       "      <td>40-49</td>\n",
       "      <td>premeno</td>\n",
       "      <td>0-4</td>\n",
       "      <td>0-2</td>\n",
       "      <td>no</td>\n",
       "      <td>2</td>\n",
       "      <td>right</td>\n",
       "      <td>right_low</td>\n",
       "      <td>no</td>\n",
       "    </tr>\n",
       "  </tbody>\n",
       "</table>\n",
       "</div>"
      ],
      "text/plain": [
       "                  Class    age menopause tumor-size inv-nodes node-caps  \\\n",
       "0  no-recurrence-events  30-39   premeno      30-34       0-2        no   \n",
       "1  no-recurrence-events  40-49   premeno      20-24       0-2        no   \n",
       "2  no-recurrence-events  40-49   premeno      20-24       0-2        no   \n",
       "3  no-recurrence-events  60-69      ge40      15-19       0-2        no   \n",
       "4  no-recurrence-events  40-49   premeno        0-4       0-2        no   \n",
       "\n",
       "   deg-malig breast breast-quad irradiat  \n",
       "0          3   left    left_low       no  \n",
       "1          2  right    right_up       no  \n",
       "2          2   left    left_low       no  \n",
       "3          2  right     left_up       no  \n",
       "4          2  right   right_low       no  "
      ]
     },
     "execution_count": 2,
     "metadata": {},
     "output_type": "execute_result"
    }
   ],
   "source": [
    "cols_names = ['Class', 'age', 'menopause', 'tumor-size',\n",
    "              'inv-nodes', 'node-caps', 'deg-malig', 'breast',\n",
    "              'breast-quad', 'irradiat'] # read the data names\n",
    "\n",
    "breast_cancer_data = pd.read_csv('breast-cancer.data',\n",
    "                 header=None, names=cols_names, na_values=[\"?\"]) # NaN are represented by '?' \n",
    "\n",
    "breast_cancer_data.head() #print first 50 rows"
   ]
  },
  {
   "cell_type": "code",
   "execution_count": 3,
   "metadata": {},
   "outputs": [
    {
     "name": "stdout",
     "output_type": "stream",
     "text": [
      "<class 'pandas.core.frame.DataFrame'>\n",
      "RangeIndex: 286 entries, 0 to 285\n",
      "Data columns (total 10 columns):\n",
      "Class          286 non-null object\n",
      "age            286 non-null object\n",
      "menopause      286 non-null object\n",
      "tumor-size     286 non-null object\n",
      "inv-nodes      286 non-null object\n",
      "node-caps      278 non-null object\n",
      "deg-malig      286 non-null int64\n",
      "breast         286 non-null object\n",
      "breast-quad    285 non-null object\n",
      "irradiat       286 non-null object\n",
      "dtypes: int64(1), object(9)\n",
      "memory usage: 22.4+ KB\n"
     ]
    }
   ],
   "source": [
    "#Information about the data columns\n",
    "breast_cancer_data.info()"
   ]
  },
  {
   "cell_type": "code",
   "execution_count": 4,
   "metadata": {},
   "outputs": [
    {
     "data": {
      "text/plain": [
       "Class          False\n",
       "age            False\n",
       "menopause      False\n",
       "tumor-size     False\n",
       "inv-nodes      False\n",
       "node-caps       True\n",
       "deg-malig      False\n",
       "breast         False\n",
       "breast-quad     True\n",
       "irradiat       False\n",
       "dtype: bool"
      ]
     },
     "execution_count": 4,
     "metadata": {},
     "output_type": "execute_result"
    }
   ],
   "source": [
    "breast_cancer_data.isna().any() #check for null values in dataset"
   ]
  },
  {
   "cell_type": "code",
   "execution_count": 5,
   "metadata": {},
   "outputs": [
    {
     "data": {
      "text/plain": [
       "Class          False\n",
       "age            False\n",
       "menopause      False\n",
       "tumor-size     False\n",
       "inv-nodes      False\n",
       "node-caps       True\n",
       "deg-malig      False\n",
       "breast         False\n",
       "breast-quad     True\n",
       "irradiat       False\n",
       "dtype: bool"
      ]
     },
     "execution_count": 5,
     "metadata": {},
     "output_type": "execute_result"
    }
   ],
   "source": [
    "breast_cancer_data.isna().any() #check for null values in dataset"
   ]
  },
  {
   "cell_type": "code",
   "execution_count": 6,
   "metadata": {},
   "outputs": [
    {
     "data": {
      "text/plain": [
       "array(['no-recurrence-events', 'recurrence-events'], dtype=object)"
      ]
     },
     "execution_count": 6,
     "metadata": {},
     "output_type": "execute_result"
    }
   ],
   "source": [
    "# check for unique class to classify or predict\n",
    "breast_cancer_data['Class'].unique()"
   ]
  },
  {
   "cell_type": "code",
   "execution_count": 7,
   "metadata": {},
   "outputs": [
    {
     "data": {
      "text/html": [
       "<div>\n",
       "<style scoped>\n",
       "    .dataframe tbody tr th:only-of-type {\n",
       "        vertical-align: middle;\n",
       "    }\n",
       "\n",
       "    .dataframe tbody tr th {\n",
       "        vertical-align: top;\n",
       "    }\n",
       "\n",
       "    .dataframe thead th {\n",
       "        text-align: right;\n",
       "    }\n",
       "</style>\n",
       "<table border=\"1\" class=\"dataframe\">\n",
       "  <thead>\n",
       "    <tr style=\"text-align: right;\">\n",
       "      <th></th>\n",
       "      <th>Class</th>\n",
       "      <th>age</th>\n",
       "      <th>menopause</th>\n",
       "      <th>tumor-size</th>\n",
       "      <th>inv-nodes</th>\n",
       "      <th>node-caps</th>\n",
       "      <th>breast</th>\n",
       "      <th>breast-quad</th>\n",
       "      <th>irradiat</th>\n",
       "    </tr>\n",
       "  </thead>\n",
       "  <tbody>\n",
       "    <tr>\n",
       "      <th>count</th>\n",
       "      <td>286</td>\n",
       "      <td>286</td>\n",
       "      <td>286</td>\n",
       "      <td>286</td>\n",
       "      <td>286</td>\n",
       "      <td>278</td>\n",
       "      <td>286</td>\n",
       "      <td>285</td>\n",
       "      <td>286</td>\n",
       "    </tr>\n",
       "    <tr>\n",
       "      <th>unique</th>\n",
       "      <td>2</td>\n",
       "      <td>6</td>\n",
       "      <td>3</td>\n",
       "      <td>11</td>\n",
       "      <td>7</td>\n",
       "      <td>2</td>\n",
       "      <td>2</td>\n",
       "      <td>5</td>\n",
       "      <td>2</td>\n",
       "    </tr>\n",
       "    <tr>\n",
       "      <th>top</th>\n",
       "      <td>no-recurrence-events</td>\n",
       "      <td>50-59</td>\n",
       "      <td>premeno</td>\n",
       "      <td>30-34</td>\n",
       "      <td>0-2</td>\n",
       "      <td>no</td>\n",
       "      <td>left</td>\n",
       "      <td>left_low</td>\n",
       "      <td>no</td>\n",
       "    </tr>\n",
       "    <tr>\n",
       "      <th>freq</th>\n",
       "      <td>201</td>\n",
       "      <td>96</td>\n",
       "      <td>150</td>\n",
       "      <td>60</td>\n",
       "      <td>213</td>\n",
       "      <td>222</td>\n",
       "      <td>152</td>\n",
       "      <td>110</td>\n",
       "      <td>218</td>\n",
       "    </tr>\n",
       "  </tbody>\n",
       "</table>\n",
       "</div>"
      ],
      "text/plain": [
       "                       Class    age menopause tumor-size inv-nodes node-caps  \\\n",
       "count                    286    286       286        286       286       278   \n",
       "unique                     2      6         3         11         7         2   \n",
       "top     no-recurrence-events  50-59   premeno      30-34       0-2        no   \n",
       "freq                     201     96       150         60       213       222   \n",
       "\n",
       "       breast breast-quad irradiat  \n",
       "count     286         285      286  \n",
       "unique      2           5        2  \n",
       "top      left    left_low       no  \n",
       "freq      152         110      218  "
      ]
     },
     "execution_count": 7,
     "metadata": {},
     "output_type": "execute_result"
    }
   ],
   "source": [
    "breast_cancer_data.describe(include='object') #check the data statistics"
   ]
  },
  {
   "cell_type": "code",
   "execution_count": 8,
   "metadata": {},
   "outputs": [
    {
     "data": {
      "text/plain": [
       "no-recurrence-events    201\n",
       "recurrence-events        85\n",
       "Name: Class, dtype: int64"
      ]
     },
     "execution_count": 8,
     "metadata": {},
     "output_type": "execute_result"
    }
   ],
   "source": [
    "# check for unique class to classify or predict value counts\n",
    "breast_cancer_data['Class'].value_counts()"
   ]
  },
  {
   "cell_type": "markdown",
   "metadata": {},
   "source": [
    "# Feature Engineering"
   ]
  },
  {
   "cell_type": "code",
   "execution_count": 9,
   "metadata": {},
   "outputs": [
    {
     "data": {
      "text/plain": [
       "Class          0\n",
       "age            0\n",
       "menopause      0\n",
       "tumor-size     0\n",
       "inv-nodes      0\n",
       "node-caps      0\n",
       "deg-malig      0\n",
       "breast         0\n",
       "breast-quad    0\n",
       "irradiat       0\n",
       "dtype: int64"
      ]
     },
     "execution_count": 9,
     "metadata": {},
     "output_type": "execute_result"
    }
   ],
   "source": [
    "# drop the missing colums in the dataset\n",
    "breast_cancer_data.dropna(axis=0, inplace=True) #drop the rows that contains missing values\n",
    "\n",
    "breast_cancer_data.isnull().sum() #check for null values"
   ]
  },
  {
   "cell_type": "code",
   "execution_count": 10,
   "metadata": {},
   "outputs": [
    {
     "data": {
      "text/plain": [
       "no-recurrence-events    196\n",
       "recurrence-events        81\n",
       "Name: Class, dtype: int64"
      ]
     },
     "execution_count": 10,
     "metadata": {},
     "output_type": "execute_result"
    }
   ],
   "source": [
    "# check for unique class to classify or predict value counts\n",
    "breast_cancer_data['Class'].value_counts()"
   ]
  },
  {
   "cell_type": "code",
   "execution_count": 11,
   "metadata": {},
   "outputs": [
    {
     "data": {
      "text/plain": [
       "50-59    91\n",
       "40-49    89\n",
       "60-69    55\n",
       "30-39    36\n",
       "70-79     5\n",
       "20-29     1\n",
       "Name: age, dtype: int64"
      ]
     },
     "execution_count": 11,
     "metadata": {},
     "output_type": "execute_result"
    }
   ],
   "source": [
    "# check for age value counts\n",
    "breast_cancer_data['age'].value_counts()"
   ]
  },
  {
   "cell_type": "code",
   "execution_count": 12,
   "metadata": {},
   "outputs": [],
   "source": [
    "#Encoding categorical data\n",
    "categorical_features = breast_cancer_data[['menopause', 'node-caps', 'breast', 'breast-quad', 'irradiat']]\n",
    "\n",
    "menopause_label = LabelEncoder() #initialize menopause encoder\n",
    "node_caps_label = LabelEncoder() #initialize node caps encoder\n",
    "breast_label = LabelEncoder() #initialize breast encoder\n",
    "breast_quad_label = LabelEncoder() #initialize breast quadrant encoder\n",
    "irradiat_label = LabelEncoder() #initialize irradiation encoder\n",
    "tumor_size_label = LabelEncoder() #initialize tumor size encoder\n",
    "inv_node_label = LabelEncoder() #initialize inv nodes encoder\n",
    "age_label = LabelEncoder() #initialize age encoder\n",
    "\n",
    "#convert categorical data to numerical using LabelEncoder\n",
    "breast_cancer_data['menopause'] = menopause_label.fit_transform(breast_cancer_data['menopause']) \n",
    "breast_cancer_data['node-caps'] = node_caps_label.fit_transform(breast_cancer_data['node-caps']) \n",
    "breast_cancer_data['breast'] = breast_label.fit_transform(breast_cancer_data['breast']) \n",
    "breast_cancer_data['breast-quad'] = breast_quad_label.fit_transform(breast_cancer_data['breast-quad']) \n",
    "breast_cancer_data['irradiat'] = irradiat_label.fit_transform(breast_cancer_data['irradiat']) \n",
    "breast_cancer_data['tumor-size'] = tumor_size_label.fit_transform(breast_cancer_data['tumor-size']) \n",
    "breast_cancer_data['inv-nodes'] = inv_node_label.fit_transform(breast_cancer_data['inv-nodes']) \n",
    "breast_cancer_data['age'] = age_label.fit_transform(breast_cancer_data['age']) "
   ]
  },
  {
   "cell_type": "code",
   "execution_count": 13,
   "metadata": {},
   "outputs": [
    {
     "data": {
      "text/html": [
       "<div>\n",
       "<style scoped>\n",
       "    .dataframe tbody tr th:only-of-type {\n",
       "        vertical-align: middle;\n",
       "    }\n",
       "\n",
       "    .dataframe tbody tr th {\n",
       "        vertical-align: top;\n",
       "    }\n",
       "\n",
       "    .dataframe thead th {\n",
       "        text-align: right;\n",
       "    }\n",
       "</style>\n",
       "<table border=\"1\" class=\"dataframe\">\n",
       "  <thead>\n",
       "    <tr style=\"text-align: right;\">\n",
       "      <th></th>\n",
       "      <th>Class</th>\n",
       "      <th>age</th>\n",
       "      <th>menopause</th>\n",
       "      <th>tumor-size</th>\n",
       "      <th>inv-nodes</th>\n",
       "      <th>node-caps</th>\n",
       "      <th>deg-malig</th>\n",
       "      <th>breast</th>\n",
       "      <th>breast-quad</th>\n",
       "      <th>irradiat</th>\n",
       "    </tr>\n",
       "  </thead>\n",
       "  <tbody>\n",
       "    <tr>\n",
       "      <th>0</th>\n",
       "      <td>no-recurrence-events</td>\n",
       "      <td>1</td>\n",
       "      <td>2</td>\n",
       "      <td>5</td>\n",
       "      <td>0</td>\n",
       "      <td>0</td>\n",
       "      <td>3</td>\n",
       "      <td>0</td>\n",
       "      <td>1</td>\n",
       "      <td>0</td>\n",
       "    </tr>\n",
       "    <tr>\n",
       "      <th>1</th>\n",
       "      <td>no-recurrence-events</td>\n",
       "      <td>2</td>\n",
       "      <td>2</td>\n",
       "      <td>3</td>\n",
       "      <td>0</td>\n",
       "      <td>0</td>\n",
       "      <td>2</td>\n",
       "      <td>1</td>\n",
       "      <td>4</td>\n",
       "      <td>0</td>\n",
       "    </tr>\n",
       "    <tr>\n",
       "      <th>2</th>\n",
       "      <td>no-recurrence-events</td>\n",
       "      <td>2</td>\n",
       "      <td>2</td>\n",
       "      <td>3</td>\n",
       "      <td>0</td>\n",
       "      <td>0</td>\n",
       "      <td>2</td>\n",
       "      <td>0</td>\n",
       "      <td>1</td>\n",
       "      <td>0</td>\n",
       "    </tr>\n",
       "    <tr>\n",
       "      <th>3</th>\n",
       "      <td>no-recurrence-events</td>\n",
       "      <td>4</td>\n",
       "      <td>0</td>\n",
       "      <td>2</td>\n",
       "      <td>0</td>\n",
       "      <td>0</td>\n",
       "      <td>2</td>\n",
       "      <td>1</td>\n",
       "      <td>2</td>\n",
       "      <td>0</td>\n",
       "    </tr>\n",
       "    <tr>\n",
       "      <th>4</th>\n",
       "      <td>no-recurrence-events</td>\n",
       "      <td>2</td>\n",
       "      <td>2</td>\n",
       "      <td>0</td>\n",
       "      <td>0</td>\n",
       "      <td>0</td>\n",
       "      <td>2</td>\n",
       "      <td>1</td>\n",
       "      <td>3</td>\n",
       "      <td>0</td>\n",
       "    </tr>\n",
       "  </tbody>\n",
       "</table>\n",
       "</div>"
      ],
      "text/plain": [
       "                  Class  age  menopause  tumor-size  inv-nodes  node-caps  \\\n",
       "0  no-recurrence-events    1          2           5          0          0   \n",
       "1  no-recurrence-events    2          2           3          0          0   \n",
       "2  no-recurrence-events    2          2           3          0          0   \n",
       "3  no-recurrence-events    4          0           2          0          0   \n",
       "4  no-recurrence-events    2          2           0          0          0   \n",
       "\n",
       "   deg-malig  breast  breast-quad  irradiat  \n",
       "0          3       0            1         0  \n",
       "1          2       1            4         0  \n",
       "2          2       0            1         0  \n",
       "3          2       1            2         0  \n",
       "4          2       1            3         0  "
      ]
     },
     "execution_count": 13,
     "metadata": {},
     "output_type": "execute_result"
    }
   ],
   "source": [
    "breast_cancer_data.head() #print first few rows"
   ]
  },
  {
   "cell_type": "code",
   "execution_count": 14,
   "metadata": {},
   "outputs": [
    {
     "data": {
      "text/plain": [
       "array(['no-recurrence-events', 'recurrence-events'], dtype=object)"
      ]
     },
     "execution_count": 14,
     "metadata": {},
     "output_type": "execute_result"
    }
   ],
   "source": [
    "breast_cancer_data['Class'].unique() #check the various fields in class we predicting"
   ]
  },
  {
   "cell_type": "code",
   "execution_count": 15,
   "metadata": {},
   "outputs": [],
   "source": [
    "# Reformat Column We Are Predicting\n",
    "breast_cancer_data['Class'] = breast_cancer_data['Class'].map({'no-recurrence-events':0, 'recurrence-events':1})"
   ]
  },
  {
   "cell_type": "markdown",
   "metadata": {},
   "source": [
    "# Data Visualization"
   ]
  },
  {
   "cell_type": "code",
   "execution_count": 16,
   "metadata": {},
   "outputs": [
    {
     "data": {
      "text/plain": [
       "Class\n",
       "0    [[AxesSubplot(0.125,0.670278;0.215278x0.209722...\n",
       "1    [[AxesSubplot(0.125,0.670278;0.215278x0.209722...\n",
       "dtype: object"
      ]
     },
     "execution_count": 16,
     "metadata": {},
     "output_type": "execute_result"
    },
    {
     "data": {
      "image/png": "[encoded data removed]",
      "text/plain": [
       "<Figure size 1080x720 with 9 Axes>"
      ]
     },
     "metadata": {
      "needs_background": "light"
     },
     "output_type": "display_data"
    },
    {
     "data": {
      "image/png": "[encoded data removed]",
      "text/plain": [
       "<Figure size 1080x720 with 9 Axes>"
      ]
     },
     "metadata": {
      "needs_background": "light"
     },
     "output_type": "display_data"
    }
   ],
   "source": [
    "breast_cancer_data.groupby('Class').hist(bins=20, figsize=(15,10)) #visualize data"
   ]
  },
  {
   "cell_type": "code",
   "execution_count": 17,
   "metadata": {},
   "outputs": [
    {
     "data": {
      "text/plain": [
       "<matplotlib.axes._subplots.AxesSubplot at 0x1a9689a0828>"
      ]
     },
     "execution_count": 17,
     "metadata": {},
     "output_type": "execute_result"
    },
    {
     "data": {
      "image/png": "[encoded data removed]",
      "text/plain": [
       "<Figure size 864x576 with 2 Axes>"
      ]
     },
     "metadata": {
      "needs_background": "light"
     },
     "output_type": "display_data"
    }
   ],
   "source": [
    "fig, ax = plt.subplots(figsize=(12,8)) \n",
    "sns.heatmap(breast_cancer_data.corr(), annot=True, fmt = \".2f\", linewidths=.5,\n",
    "            ax=ax, cmap = \"YlGnBu\") #checking correlation among numerical data"
   ]
  },
  {
   "cell_type": "markdown",
   "metadata": {},
   "source": [
    "# Oversampling to address Dataset Imbalance:"
   ]
  },
  {
   "cell_type": "code",
   "execution_count": 18,
   "metadata": {},
   "outputs": [],
   "source": [
    "# Split-out Validation Dataset and Create Test Variables\n",
    "\n",
    "X = breast_cancer_data.drop(columns='Class')\n",
    "y = breast_cancer_data['Class'].copy()\n",
    "\n",
    "smote = SMOTE() #oversampling with SMOTE function\n",
    "\n",
    "# fit predictor and target variable\n",
    "x_smote, y_smote = smote.fit_resample(X, y)\n",
    "\n",
    "validation_size = 0.20\n",
    "seed = 0\n",
    "\n",
    "#splitting the dataset\n",
    "X_train, X_test, y_train, y_test = train_test_split(x_smote, y_smote, test_size=validation_size, random_state=seed)"
   ]
  },
  {
   "cell_type": "code",
   "execution_count": 19,
   "metadata": {},
   "outputs": [
    {
     "data": {
      "text/html": [
       "<div>\n",
       "<style scoped>\n",
       "    .dataframe tbody tr th:only-of-type {\n",
       "        vertical-align: middle;\n",
       "    }\n",
       "\n",
       "    .dataframe tbody tr th {\n",
       "        vertical-align: top;\n",
       "    }\n",
       "\n",
       "    .dataframe thead th {\n",
       "        text-align: right;\n",
       "    }\n",
       "</style>\n",
       "<table border=\"1\" class=\"dataframe\">\n",
       "  <thead>\n",
       "    <tr style=\"text-align: right;\">\n",
       "      <th></th>\n",
       "      <th>age</th>\n",
       "      <th>menopause</th>\n",
       "      <th>tumor-size</th>\n",
       "      <th>inv-nodes</th>\n",
       "      <th>node-caps</th>\n",
       "      <th>deg-malig</th>\n",
       "      <th>breast</th>\n",
       "      <th>breast-quad</th>\n",
       "      <th>irradiat</th>\n",
       "    </tr>\n",
       "  </thead>\n",
       "  <tbody>\n",
       "    <tr>\n",
       "      <th>218</th>\n",
       "      <td>1</td>\n",
       "      <td>2</td>\n",
       "      <td>4</td>\n",
       "      <td>4</td>\n",
       "      <td>1</td>\n",
       "      <td>3</td>\n",
       "      <td>0</td>\n",
       "      <td>1</td>\n",
       "      <td>1</td>\n",
       "    </tr>\n",
       "    <tr>\n",
       "      <th>254</th>\n",
       "      <td>2</td>\n",
       "      <td>0</td>\n",
       "      <td>4</td>\n",
       "      <td>1</td>\n",
       "      <td>1</td>\n",
       "      <td>3</td>\n",
       "      <td>0</td>\n",
       "      <td>3</td>\n",
       "      <td>1</td>\n",
       "    </tr>\n",
       "    <tr>\n",
       "      <th>299</th>\n",
       "      <td>4</td>\n",
       "      <td>0</td>\n",
       "      <td>3</td>\n",
       "      <td>0</td>\n",
       "      <td>0</td>\n",
       "      <td>3</td>\n",
       "      <td>0</td>\n",
       "      <td>1</td>\n",
       "      <td>0</td>\n",
       "    </tr>\n",
       "    <tr>\n",
       "      <th>191</th>\n",
       "      <td>3</td>\n",
       "      <td>2</td>\n",
       "      <td>1</td>\n",
       "      <td>4</td>\n",
       "      <td>0</td>\n",
       "      <td>1</td>\n",
       "      <td>1</td>\n",
       "      <td>2</td>\n",
       "      <td>0</td>\n",
       "    </tr>\n",
       "    <tr>\n",
       "      <th>56</th>\n",
       "      <td>3</td>\n",
       "      <td>0</td>\n",
       "      <td>0</td>\n",
       "      <td>0</td>\n",
       "      <td>0</td>\n",
       "      <td>1</td>\n",
       "      <td>1</td>\n",
       "      <td>0</td>\n",
       "      <td>0</td>\n",
       "    </tr>\n",
       "  </tbody>\n",
       "</table>\n",
       "</div>"
      ],
      "text/plain": [
       "     age  menopause  tumor-size  inv-nodes  node-caps  deg-malig  breast  \\\n",
       "218    1          2           4          4          1          3       0   \n",
       "254    2          0           4          1          1          3       0   \n",
       "299    4          0           3          0          0          3       0   \n",
       "191    3          2           1          4          0          1       1   \n",
       "56     3          0           0          0          0          1       1   \n",
       "\n",
       "     breast-quad  irradiat  \n",
       "218            1         1  \n",
       "254            3         1  \n",
       "299            1         0  \n",
       "191            2         0  \n",
       "56             0         0  "
      ]
     },
     "execution_count": 19,
     "metadata": {},
     "output_type": "execute_result"
    }
   ],
   "source": [
    "X_train.head() #print first few rows"
   ]
  },
  {
   "cell_type": "code",
   "execution_count": 20,
   "metadata": {},
   "outputs": [],
   "source": [
    "#standardize\n",
    "scaler = StandardScaler()\n",
    "\n",
    "X_train = scaler.fit_transform(X_train)\n",
    "\n",
    "X_test = scaler.transform(X_test)\n"
   ]
  },
  {
   "cell_type": "markdown",
   "metadata": {},
   "source": [
    "# Building the Model"
   ]
  },
  {
   "cell_type": "code",
   "execution_count": 21,
   "metadata": {},
   "outputs": [
    {
     "name": "stdout",
     "output_type": "stream",
     "text": [
      "LR: 0.658468 (0.081032)\n",
      "KNN: 0.734980 (0.069354)\n",
      "CART: 0.715827 (0.042570)\n",
      "NB: 0.658367 (0.093275)\n",
      "RF: 0.754637 (0.062160)\n",
      "SVM: 0.674496 (0.078944)\n"
     ]
    }
   ],
   "source": [
    "num_folds = 10\n",
    "scoring = 'accuracy'\n",
    "\n",
    "# Params for Random Forest\n",
    "num_trees = 100\n",
    "max_features = 5\n",
    "\n",
    "\n",
    "\n",
    "#Trying Different Types of Classifiers\n",
    "models = []\n",
    "models.append(('LR', LogisticRegression(random_state = 0)))\n",
    "models.append(('KNN', KNeighborsClassifier(n_neighbors = 3, metric = 'minkowski', p = 2)))\n",
    "models.append(('CART', DecisionTreeClassifier(max_leaf_nodes=19, random_state=0)))\n",
    "models.append(('NB', GaussianNB()))\n",
    "models.append(('RF', RandomForestClassifier(n_estimators=num_trees, max_features=max_features)))\n",
    "models.append(('SVM', SVC(kernel = 'linear', random_state = 0)))\n",
    "\n",
    "# evalutate each model in turn\n",
    "results = []\n",
    "names = []\n",
    "\n",
    "for name, model in models:\n",
    "    kfold = KFold(n_splits=10)\n",
    "    cv_results = cross_val_score(model, X_train, y_train, cv=kfold, scoring='accuracy')\n",
    "    results.append(cv_results)\n",
    "    names.append(name)\n",
    "    msg = \"%s: %f (%f)\" % (name, cv_results.mean(), cv_results.std())\n",
    "    print(msg)"
   ]
  },
  {
   "cell_type": "code",
   "execution_count": 22,
   "metadata": {},
   "outputs": [
    {
     "data": {
      "image/png": "[encoded data removed]",
      "text/plain": [
       "<Figure size 720x576 with 1 Axes>"
      ]
     },
     "metadata": {
      "needs_background": "light"
     },
     "output_type": "display_data"
    }
   ],
   "source": [
    "#plot algorithm accuracuricies\n",
    "fig = plt.figure(figsize=(10,8))\n",
    "fig.suptitle('Algorith Comparison')\n",
    "ax = fig.add_subplot(111)\n",
    "plt.boxplot(results)\n",
    "ax.set_xticklabels(names, fontsize=16)\n",
    "plt.show()"
   ]
  },
  {
   "cell_type": "markdown",
   "metadata": {},
   "source": [
    "# ROC AUC CHECKING"
   ]
  },
  {
   "cell_type": "code",
   "execution_count": 30,
   "metadata": {},
   "outputs": [
    {
     "name": "stdout",
     "output_type": "stream",
     "text": [
      "RF Accuracy: 75.9493670886076%\n",
      "KNN Accuracy: 70.88607594936708%\n",
      "LR Accuracy: 59.49367088607595%\n",
      "CART Accuracy: 67.08860759493672%\n",
      "ROC AUC Score for Logistic Regression:  0.6602067183462532\n",
      "ROC AUC Score for Random Forest:  0.8452842377260982\n",
      "ROC AUC Score for Decision Tree:  0.7325581395348837\n",
      "ROC AUC Score for K Neareast Neighbor:  0.7819767441860465\n"
     ]
    }
   ],
   "source": [
    "# Finalizing the model\n",
    "random_forest = RandomForestClassifier(n_estimators=100,max_features=5)\n",
    "\n",
    "random_forest.fit(X_train, y_train)\n",
    "\n",
    "predictions = random_forest.predict(X_test)\n",
    "print(\"RF Accuracy: %s%%\" % (100*accuracy_score(y_test, predictions)))\n",
    "\n",
    "# Finalizing the model\n",
    "KNN = KNeighborsClassifier(n_neighbors = 3, metric = 'minkowski', p = 2)\n",
    "KNN.fit(X_train, y_train)\n",
    "predictions1 = KNN.predict(X_test)\n",
    "print(\"KNN Accuracy: %s%%\" % (100*accuracy_score(y_test, predictions1)))\n",
    "\n",
    "\n",
    "# Finalizing the model\n",
    "LR = LogisticRegression(C=1)\n",
    "\n",
    "LR.fit(X_train, y_train)\n",
    "\n",
    "predictions2 = LR.predict(X_test)\n",
    "\n",
    "print(\"LR Accuracy: %s%%\" % (100*accuracy_score(y_test, predictions2)))\n",
    "\n",
    "\n",
    "CART = DecisionTreeClassifier(max_leaf_nodes=19, random_state=0)\n",
    "\n",
    "CART.fit(X_train, y_train)\n",
    "\n",
    "predictions3 = CART.predict(X_test)\n",
    "\n",
    "print(\"CART Accuracy: %s%%\" % (100*accuracy_score(y_test, predictions3)))\n",
    "\n",
    "\n",
    "y_score1 = LR.predict_proba(X_test)[:,1]\n",
    "y_score2 = random_forest.predict_proba(X_test)[:,1]\n",
    "y_score3 = CART.predict_proba(X_test)[:,1]\n",
    "y_score4 = KNN.predict_proba(X_test)[:,1]\n",
    "\n",
    "false_positive_rate1, true_positive_rate1, threshold1 = roc_curve(y_test, y_score1)\n",
    "false_positive_rate2, true_positive_rate2, threshold2 = roc_curve(y_test, y_score2)\n",
    "false_positive_rate3, true_positive_rate3, threshold3 = roc_curve(y_test, y_score3)\n",
    "false_positive_rate4, true_positive_rate4, threshold4 = roc_curve(y_test, y_score4)\n",
    "\n",
    "print('ROC AUC Score for Logistic Regression: ', roc_auc_score(y_test, y_score1))\n",
    "print('ROC AUC Score for Random Forest: ', roc_auc_score(y_test, y_score2))\n",
    "print('ROC AUC Score for Decision Tree: ', roc_auc_score(y_test, y_score3))\n",
    "print('ROC AUC Score for K Neareast Neighbor: ', roc_auc_score(y_test, y_score4))"
   ]
  },
  {
   "cell_type": "code",
   "execution_count": 31,
   "metadata": {},
   "outputs": [
    {
     "data": {
      "image/png": "[encoded data removed]",
      "text/plain": [
       "<Figure size 720x576 with 1 Axes>"
      ]
     },
     "metadata": {
      "needs_background": "light"
     },
     "output_type": "display_data"
    }
   ],
   "source": [
    "#algorithm camparison curves\n",
    "plt.subplots(1, figsize=(10,8))\n",
    "plt.title('Receiver Operating Characteristic - Algorithms Camparison',fontsize=14)\n",
    "plt.plot(false_positive_rate1, true_positive_rate1, label='Logistic Regression')\n",
    "plt.plot(false_positive_rate2, true_positive_rate2, label='Random Forest')\n",
    "plt.plot(false_positive_rate3, true_positive_rate3, label='Decision Tree')\n",
    "plt.plot(false_positive_rate3, true_positive_rate3, label='K Neareast Neighbor')\n",
    "plt.plot([0, 1], ls=\"--\")\n",
    "plt.plot([0, 0], [1, 0] , c=\".7\"), plt.plot([1, 1] , c=\".7\")\n",
    "plt.ylabel('True Positive Rate', fontsize=14)\n",
    "plt.xlabel('False Positive Rate', fontsize=14)\n",
    "plt.legend()\n",
    "plt.show()"
   ]
  },
  {
   "cell_type": "markdown",
   "metadata": {},
   "source": [
    "# Algorithm Tuning"
   ]
  },
  {
   "cell_type": "code",
   "execution_count": 32,
   "metadata": {},
   "outputs": [
    {
     "name": "stdout",
     "output_type": "stream",
     "text": [
      "Best: 0.773790 using {'max_features': 4, 'n_estimators': 200}\n",
      "0.751310 (0.080081) with: {'max_features': 1, 'n_estimators': 50}\n",
      "0.767036 (0.056416) with: {'max_features': 1, 'n_estimators': 100}\n",
      "0.751109 (0.072763) with: {'max_features': 1, 'n_estimators': 150}\n",
      "0.767339 (0.059644) with: {'max_features': 1, 'n_estimators': 200}\n",
      "0.763810 (0.058529) with: {'max_features': 1, 'n_estimators': 250}\n",
      "0.773589 (0.056078) with: {'max_features': 2, 'n_estimators': 50}\n",
      "0.767036 (0.054541) with: {'max_features': 2, 'n_estimators': 100}\n",
      "0.760988 (0.063478) with: {'max_features': 2, 'n_estimators': 150}\n",
      "0.757661 (0.064115) with: {'max_features': 2, 'n_estimators': 200}\n",
      "0.757762 (0.063343) with: {'max_features': 2, 'n_estimators': 250}\n",
      "0.767339 (0.048580) with: {'max_features': 3, 'n_estimators': 50}\n",
      "0.767238 (0.058843) with: {'max_features': 3, 'n_estimators': 100}\n",
      "0.773690 (0.059250) with: {'max_features': 3, 'n_estimators': 150}\n",
      "0.761089 (0.065832) with: {'max_features': 3, 'n_estimators': 200}\n",
      "0.767440 (0.071389) with: {'max_features': 3, 'n_estimators': 250}\n",
      "0.748185 (0.070899) with: {'max_features': 4, 'n_estimators': 50}\n",
      "0.754738 (0.069514) with: {'max_features': 4, 'n_estimators': 100}\n",
      "0.751310 (0.064017) with: {'max_features': 4, 'n_estimators': 150}\n",
      "0.773790 (0.058496) with: {'max_features': 4, 'n_estimators': 200}\n",
      "0.773790 (0.056915) with: {'max_features': 4, 'n_estimators': 250}\n",
      "0.757460 (0.059085) with: {'max_features': 5, 'n_estimators': 50}\n",
      "0.738609 (0.063729) with: {'max_features': 5, 'n_estimators': 100}\n",
      "0.754435 (0.054592) with: {'max_features': 5, 'n_estimators': 150}\n",
      "0.751109 (0.060564) with: {'max_features': 5, 'n_estimators': 200}\n",
      "0.757560 (0.035455) with: {'max_features': 5, 'n_estimators': 250}\n",
      "0.754536 (0.063246) with: {'max_features': 6, 'n_estimators': 50}\n",
      "0.757661 (0.068252) with: {'max_features': 6, 'n_estimators': 100}\n",
      "0.764113 (0.064949) with: {'max_features': 6, 'n_estimators': 150}\n",
      "0.767238 (0.050908) with: {'max_features': 6, 'n_estimators': 200}\n",
      "0.748085 (0.055270) with: {'max_features': 6, 'n_estimators': 250}\n",
      "0.741633 (0.070467) with: {'max_features': 7, 'n_estimators': 50}\n",
      "0.747883 (0.041709) with: {'max_features': 7, 'n_estimators': 100}\n",
      "0.748185 (0.070899) with: {'max_features': 7, 'n_estimators': 150}\n",
      "0.760786 (0.045352) with: {'max_features': 7, 'n_estimators': 200}\n",
      "0.751411 (0.058766) with: {'max_features': 7, 'n_estimators': 250}\n",
      "0.751512 (0.077114) with: {'max_features': 8, 'n_estimators': 50}\n",
      "0.754435 (0.058827) with: {'max_features': 8, 'n_estimators': 100}\n",
      "0.735484 (0.068293) with: {'max_features': 8, 'n_estimators': 150}\n",
      "0.729133 (0.065495) with: {'max_features': 8, 'n_estimators': 200}\n",
      "0.751210 (0.048454) with: {'max_features': 8, 'n_estimators': 250}\n",
      "0.738105 (0.052475) with: {'max_features': 9, 'n_estimators': 50}\n",
      "0.731956 (0.064523) with: {'max_features': 9, 'n_estimators': 100}\n",
      "0.747984 (0.059082) with: {'max_features': 9, 'n_estimators': 150}\n",
      "0.747984 (0.064347) with: {'max_features': 9, 'n_estimators': 200}\n",
      "0.751210 (0.061681) with: {'max_features': 9, 'n_estimators': 250}\n",
      "nan (nan) with: {'max_features': 10, 'n_estimators': 50}\n",
      "nan (nan) with: {'max_features': 10, 'n_estimators': 100}\n",
      "nan (nan) with: {'max_features': 10, 'n_estimators': 150}\n",
      "nan (nan) with: {'max_features': 10, 'n_estimators': 200}\n",
      "nan (nan) with: {'max_features': 10, 'n_estimators': 250}\n"
     ]
    }
   ],
   "source": [
    "# best_estimator = 200\n",
    "# best max_feature = 4\n",
    "\n",
    "n_estimators = np.array([50,100,150,200,250])\n",
    "\n",
    "max_features = np.array([1,2,3,4,5,6,7,8,9,10])\n",
    "\n",
    "param_grid = dict(n_estimators=n_estimators,max_features=max_features)\n",
    "\n",
    "model = RandomForestClassifier()\n",
    "\n",
    "kfold = KFold(n_splits=num_folds)\n",
    "\n",
    "grid = GridSearchCV(estimator=model, param_grid=param_grid, scoring=scoring, cv=kfold)\n",
    "\n",
    "grid_result = grid.fit(X_train, y_train)\n",
    "\n",
    "print(\"Best: %f using %s\" % (grid_result.best_score_, grid_result.best_params_))\n",
    "\n",
    "means = grid_result.cv_results_['mean_test_score']\n",
    "\n",
    "stds = grid_result.cv_results_['std_test_score']\n",
    "\n",
    "params = grid_result.cv_results_['params']\n",
    "\n",
    "for mean, stdev, param in zip(means, stds, params):\n",
    "    print(\"%f (%f) with: %r\" % (mean, stdev, param))"
   ]
  },
  {
   "cell_type": "markdown",
   "metadata": {},
   "source": [
    "# Final Model RF"
   ]
  },
  {
   "cell_type": "code",
   "execution_count": 33,
   "metadata": {},
   "outputs": [
    {
     "name": "stdout",
     "output_type": "stream",
     "text": [
      "[[32 11]\n",
      " [ 8 28]]\n",
      "                      precision    recall  f1-score   support\n",
      "\n",
      "No Recurrence Events       0.80      0.74      0.77        43\n",
      "   Recurrence Events       0.72      0.78      0.75        36\n",
      "\n",
      "            accuracy                           0.76        79\n",
      "           macro avg       0.76      0.76      0.76        79\n",
      "        weighted avg       0.76      0.76      0.76        79\n",
      "\n"
     ]
    },
    {
     "data": {
      "image/png": "[encoded data removed]",
      "text/plain": [
       "<Figure size 720x576 with 2 Axes>"
      ]
     },
     "metadata": {
      "needs_background": "light"
     },
     "output_type": "display_data"
    }
   ],
   "source": [
    "# Finalizing the model\n",
    "random_forest = RandomForestClassifier(n_estimators=200,max_features=4)\n",
    "\n",
    "random_forest.fit(X_train, y_train)\n",
    "\n",
    "predictions = random_forest.predict(X_test)\n",
    "\n",
    "class_names = ['No Recurrence Events', 'Recurrence Events']\n",
    "\n",
    "print(confusion_matrix(y_test, predictions))\n",
    "\n",
    "print(classification_report(y_test, predictions, target_names=class_names))\n",
    "\n",
    "\n",
    "\n",
    "#Confusion matrix plot\n",
    "\n",
    "cm = confusion_matrix(y_test, predictions)\n",
    "\n",
    "fig, ax = plt.subplots(figsize=(10, 8))\n",
    "heatmap = sns.heatmap(cm, fmt='g', cmap='YlGnBu', annot=True, ax=ax)\n",
    "ax.set_xlabel('Predicted class')\n",
    "ax.set_ylabel('True class')\n",
    "ax.set_title('Confusion Matrix')\n",
    "ax.xaxis.set_ticklabels(class_names)\n",
    "ax.yaxis.set_ticklabels(class_names)\n",
    " # Save the heatmap to file\n",
    "heatmapfig = heatmap.get_figure()\n",
    "heatmapfig.savefig('confusion_matrix.png')"
   ]
  },
  {
   "cell_type": "markdown",
   "metadata": {},
   "source": [
    "# Model and Labels Saving"
   ]
  },
  {
   "cell_type": "code",
   "execution_count": 34,
   "metadata": {},
   "outputs": [],
   "source": [
    "#saving the model and scaled data\n",
    "pickle.dump(random_forest, open('cancer_model.sav', 'wb')) # saving the model\n",
    "\n",
    "pickle.dump(scaler, open('scaling.pkl', 'wb'))\n",
    "\n",
    "# saving label encoders\n",
    "pickle.dump(age_label, open('age_label.pkl', 'wb'))\n",
    "pickle.dump(menopause_label, open('menopause_label.pkl', 'wb'))\n",
    "pickle.dump(tumor_size_label, open('tumor_size_label.pkl', 'wb'))\n",
    "pickle.dump(inv_node_label, open('inv_node_label.pkl', 'wb'))\n",
    "pickle.dump(node_caps_label, open('node_caps_label.pkl', 'wb'))\n",
    "pickle.dump(breast_label, open('breast_label.pkl', 'wb'))\n",
    "pickle.dump(breast_quad_label, open('breast_quad_label.pkl', 'wb'))\n",
    "pickle.dump(irradiat_label, open('irradiat_label.pkl', 'wb'))\n",
    "\n",
    "age = pickle.load(open('age_label.pkl', 'rb'))\n",
    "menopause = pickle.load(open('menopause_label.pkl', 'rb'))\n",
    "tumor_size = pickle.load(open('tumor_size_label.pkl', 'rb'))\n",
    "inv_node = pickle.load(open('inv_node_label.pkl', 'rb'))\n",
    "node_caps = pickle.load(open('node_caps_label.pkl', 'rb'))\n",
    "breast = pickle.load(open('breast_label.pkl', 'rb'))\n",
    "breast_quad = pickle.load(open('breast_quad_label.pkl', 'rb'))\n",
    "irradiat = pickle.load(open('irradiat_label.pkl', 'rb'))\n"
   ]
  },
  {
   "cell_type": "code",
   "execution_count": 35,
   "metadata": {},
   "outputs": [],
   "source": [
    "#prediction model function\n",
    "def getPredictions(age, menopause, tumor_size, inv_node, node_caps, deg_malig, breast, breast_quad, irradiat):\n",
    "    X =[[age, menopause, tumor_size, inv_node, node_caps, deg_malig, breast, breast_quad, irradiat]]\n",
    "    \n",
    "    random_forest = pickle.load(open('cancer_model.sav', 'rb'))\n",
    "#     scaled = pickle.load(open('scaling.pkl', 'rb'))\n",
    "\n",
    "    prediction = random_forest.predict(X)\n",
    "    \n",
    "    print(prediction)"
   ]
  },
  {
   "cell_type": "code",
   "execution_count": 36,
   "metadata": {},
   "outputs": [
    {
     "name": "stdout",
     "output_type": "stream",
     "text": [
      "[1]\n"
     ]
    }
   ],
   "source": [
    "getPredictions(5,2,3,5,1,3,1,4,0)"
   ]
  },
  {
   "cell_type": "code",
   "execution_count": null,
   "metadata": {},
   "outputs": [],
   "source": []
  }
 ],
 "metadata": {
  "kernelspec": {
   "display_name": "Python 3",
   "language": "python",
   "name": "python3"
  },
  "language_info": {
   "codemirror_mode": {
    "name": "ipython",
    "version": 3
   },
   "file_extension": ".py",
   "mimetype": "text/x-python",
   "name": "python",
   "nbconvert_exporter": "python",
   "pygments_lexer": "ipython3",
   "version": "3.7.3"
  }
 },
 "nbformat": 4,
 "nbformat_minor": 2
}
